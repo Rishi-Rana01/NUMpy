{
 "cells": [
  {
   "cell_type": "markdown",
   "id": "c464dcff",
   "metadata": {},
   "source": [
    "## Numpy array and basics"
   ]
  },
  {
   "cell_type": "markdown",
   "id": "c066ba29",
   "metadata": {},
   "source": [
    "import numpy as np"
   ]
  },
  {
   "cell_type": "code",
   "execution_count": 2,
   "id": "57d3da28",
   "metadata": {},
   "outputs": [],
   "source": [
    "import numpy as np "
   ]
  },
  {
   "cell_type": "markdown",
   "id": "529c64c2",
   "metadata": {},
   "source": [
    "### creating array from list\n"
   ]
  },
  {
   "cell_type": "code",
   "execution_count": 3,
   "id": "3c418973",
   "metadata": {},
   "outputs": [
    {
     "name": "stdout",
     "output_type": "stream",
     "text": [
      "1D array:  [1 2 3 4 5]\n",
      "2D array: \n",
      " [[1 2 3]\n",
      " [4 5 6]]\n"
     ]
    }
   ],
   "source": [
    "arr_1d = np.array([1,2,3,4,5])\n",
    "print(\"1D array: \", arr_1d)\n",
    "\n",
    "arr_2d = np.array([[1,2,3],[4,5,6]])\n",
    "print(\"2D array: \\n\", arr_2d)"
   ]
  },
  {
   "cell_type": "markdown",
   "id": "b7eb1f73",
   "metadata": {},
   "source": [
    "### List vs numpy array"
   ]
  },
  {
   "cell_type": "code",
   "execution_count": 5,
   "id": "4a84a005",
   "metadata": {},
   "outputs": [
    {
     "name": "stdout",
     "output_type": "stream",
     "text": [
      "Python List multiplication :  [1, 2, 3, 4, 5, 1, 2, 3, 4, 5]\n",
      "Numpy Array multiplication :  [ 2  4  6  8 10]\n",
      "Python list time:  0.16156744956970215\n",
      "Numpy array time:  0.018683433532714844\n"
     ]
    }
   ],
   "source": [
    "py_list = [1,2,3,4,5]\n",
    "print(\"Python List multiplication : \",py_list*2)\n",
    "\n",
    "\n",
    "np_array= np.array([1,2,3,4,5])\n",
    "print(\"Numpy Array multiplication : \",np_array*2)\n",
    "\n",
    "import time\n",
    "start = time.time()\n",
    "py_list = [i*2 for i in range(1000000)]\n",
    "print(\"Python list time: \", time.time()-start)\n",
    "\n",
    "start = time.time()\n",
    "np_array= np.arange(1000000)*2\n",
    "print(\"Numpy array time: \", time.time()-start)\n",
    "\n"
   ]
  },
  {
   "cell_type": "markdown",
   "id": "65485117",
   "metadata": {},
   "source": [
    "### Creating array from Scratch"
   ]
  },
  {
   "cell_type": "code",
   "execution_count": 9,
   "id": "3355fd3c",
   "metadata": {},
   "outputs": [
    {
     "name": "stdout",
     "output_type": "stream",
     "text": [
      "Array of Zeros: \n",
      " [[0. 0. 0. 0.]\n",
      " [0. 0. 0. 0.]\n",
      " [0. 0. 0. 0.]]\n",
      "Array of Ones: \n",
      " [[1. 1. 1. 1.]\n",
      " [1. 1. 1. 1.]\n",
      " [1. 1. 1. 1.]]\n",
      "Array of Full: \n",
      " [[7 7 7 7]\n",
      " [7 7 7 7]\n",
      " [7 7 7 7]]\n",
      "Identity Matrix: \n",
      " [[1. 0. 0. 0.]\n",
      " [0. 1. 0. 0.]\n",
      " [0. 0. 1. 0.]\n",
      " [0. 0. 0. 1.]]\n",
      "Array of Randoms: \n",
      " [[0.04629931 0.72462682 0.38831851 0.50240804]\n",
      " [0.39092134 0.06435747 0.07534591 0.47313726]\n",
      " [0.86141347 0.33241877 0.10921156 0.58069435]]\n",
      "Sequence Array: \n",
      " [10 12 14 16 18 20]\n"
     ]
    }
   ],
   "source": [
    "zeros = np.zeros((3,4))\n",
    "print(\"Array of Zeros: \\n\", zeros)\n",
    "\n",
    "ones = np.ones((3,4))\n",
    "print(\"Array of Ones: \\n\", ones)\n",
    "\n",
    "full = np.full((3,4), 7)\n",
    "print(\"Array of Full: \\n\", full)\n",
    "\n",
    "eye = np.eye(4)\n",
    "print(\"Identity Matrix: \\n\", eye)\n",
    "\n",
    "random = np.random.random((3,4))\n",
    "print(\"Array of Randoms: \\n\", random)\n",
    "\n",
    "sequence = np.arange(10,21,2)\n",
    "print(\"Sequence Array: \\n\", sequence)\n",
    "\n"
   ]
  },
  {
   "cell_type": "markdown",
   "id": "00b91add",
   "metadata": {},
   "source": [
    "### Vector , Matrix, Tensor"
   ]
  },
  {
   "cell_type": "code",
   "execution_count": 10,
   "id": "24870d90",
   "metadata": {},
   "outputs": [
    {
     "name": "stdout",
     "output_type": "stream",
     "text": [
      "Vector:  [1 2 3]\n",
      "Matrix: \n",
      " [[1 2 3]\n",
      " [4 5 6]\n",
      " [7 8 9]]\n",
      "Tensor: \n",
      " [[[1 2]\n",
      "  [3 4]]\n",
      "\n",
      " [[5 6]\n",
      "  [7 8]]]\n"
     ]
    }
   ],
   "source": [
    "vector = np.array([1,2,3])\n",
    "print(\"Vector: \", vector)\n",
    "\n",
    "matrix = np.array([[1,2,3],\n",
    "                   [4,5,6],\n",
    "                   [7,8,9]])\n",
    "print(\"Matrix: \\n\", matrix)\n",
    "\n",
    "tensor = np.array([[[1,2],[3,4]],\n",
    "                   [[5,6],[7,8]]])\n",
    "print(\"Tensor: \\n\", tensor)"
   ]
  },
  {
   "cell_type": "markdown",
   "id": "369ca857",
   "metadata": {},
   "source": [
    "### Array properties"
   ]
  },
  {
   "cell_type": "code",
   "execution_count": 11,
   "id": "75c4048d",
   "metadata": {},
   "outputs": [
    {
     "name": "stdout",
     "output_type": "stream",
     "text": [
      "Shape  (2, 3)\n",
      "Dimension  2\n",
      "Size  6\n",
      "Data Type  int64\n"
     ]
    }
   ],
   "source": [
    "arr = np.array([[1,2,3],\n",
    "                [4,5,6]])\n",
    "\n",
    "print(\"Shape \", arr.shape)\n",
    "print(\"Dimension \", arr.ndim)\n",
    "print(\"Size \", arr.size)\n",
    "print(\"Data Type \", arr.dtype)"
   ]
  },
  {
   "cell_type": "markdown",
   "id": "842ddc73",
   "metadata": {},
   "source": [
    "### Array Reshaping"
   ]
  },
  {
   "cell_type": "code",
   "execution_count": 18,
   "id": "0e5a9256",
   "metadata": {},
   "outputs": [
    {
     "name": "stdout",
     "output_type": "stream",
     "text": [
      "Original array  [ 0  1  2  3  4  5  6  7  8  9 10 11]\n",
      "Reshaped array \n",
      " [[ 0  1  2  3]\n",
      " [ 4  5  6  7]\n",
      " [ 8  9 10 11]]\n",
      "Flattened array  [ 0  1  2  3  4  5  6  7  8  9 10 11]\n",
      "Raveled array  [ 0  1  2  3  4  5  6  7  8  9 10 11]\n",
      "Transposed array \n",
      " [[ 0  4  8]\n",
      " [ 1  5  9]\n",
      " [ 2  6 10]\n",
      " [ 3  7 11]]\n"
     ]
    }
   ],
   "source": [
    "arr = np.arange(12)\n",
    "print(\"Original array \", arr)\n",
    "\n",
    "reshaped = arr.reshape((3,4))\n",
    "print(\"Reshaped array \\n\", reshaped)\n",
    "\n",
    "flattened = reshaped.flatten()\n",
    "print(\"Flattened array \", flattened)\n",
    "\n",
    "# ravel (returns view, instead of copy)\n",
    "raveled = reshaped.ravel()\n",
    "print(\"Raveled array \", raveled)\n",
    "\n",
    "#Transpose\n",
    "transpose = reshaped.T\n",
    "print(\"Transposed array \\n\", transpose)"
   ]
  },
  {
   "cell_type": "code",
   "execution_count": null,
   "id": "82e44662",
   "metadata": {},
   "outputs": [],
   "source": []
  }
 ],
 "metadata": {
  "kernelspec": {
   "display_name": "venv (3.12.5)",
   "language": "python",
   "name": "python3"
  },
  "language_info": {
   "codemirror_mode": {
    "name": "ipython",
    "version": 3
   },
   "file_extension": ".py",
   "mimetype": "text/x-python",
   "name": "python",
   "nbconvert_exporter": "python",
   "pygments_lexer": "ipython3",
   "version": "3.12.5"
  }
 },
 "nbformat": 4,
 "nbformat_minor": 5
}
