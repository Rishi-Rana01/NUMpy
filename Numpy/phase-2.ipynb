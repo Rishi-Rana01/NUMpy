{
 "cells": [
  {
   "cell_type": "markdown",
   "id": "c14f1948",
   "metadata": {},
   "source": [
    "## NumPy Array operations"
   ]
  },
  {
   "cell_type": "code",
   "execution_count": 13,
   "id": "f3ce3598",
   "metadata": {},
   "outputs": [],
   "source": [
    "import numpy as np"
   ]
  },
  {
   "cell_type": "code",
   "execution_count": 14,
   "id": "5d5eca94",
   "metadata": {},
   "outputs": [
    {
     "name": "stdout",
     "output_type": "stream",
     "text": [
      "Basic Slicing: [3 4 5 6 7]\n",
      "with Step: [2 4 6 8]\n",
      "Negative indexing:  [3 4 5 6 7]\n",
      "Negative indexing:  8\n"
     ]
    }
   ],
   "source": [
    "arr = np.arange(1,11) # 1 to 10, 11 not included\n",
    "print(\"Basic Slicing:\", arr[2:7])\n",
    "print(\"with Step:\", arr[1:8:2])\n",
    "print(\"Negative indexing: \", arr[-8:-3]) # last 8 to last 3\n",
    "print(\"Negative indexing: \", arr[-3])"
   ]
  },
  {
   "cell_type": "markdown",
   "id": "b524f106",
   "metadata": {},
   "source": [
    "## 2D array"
   ]
  },
  {
   "cell_type": "code",
   "execution_count": 15,
   "id": "283fd1bf",
   "metadata": {},
   "outputs": [
    {
     "name": "stdout",
     "output_type": "stream",
     "text": [
      "[[1 2 3]\n",
      " [4 5 6]\n",
      " [7 8 9]]\n",
      "Specific element:  6\n",
      "Specific row:  [4 5 6]\n",
      "Specific column:  [2 5 8]\n"
     ]
    }
   ],
   "source": [
    "arr_2d = np.array([1,2,3,4,5,6,7,8,9]) # 1D array\n",
    "arr_2d = arr_2d.reshape(3,3) # 2D array 0,1,2\n",
    "print(arr_2d)\n",
    "\n",
    "print(\"Specific element: \", arr_2d[1,2])\n",
    "print(\"Specific row: \", arr_2d[1]) # 2nd row\n",
    "print(\"Specific column: \", arr_2d[:,1]) # all rows, 2"
   ]
  },
  {
   "cell_type": "markdown",
   "id": "5a5b0414",
   "metadata": {},
   "source": [
    "# Sorting\n"
   ]
  },
  {
   "cell_type": "code",
   "execution_count": 16,
   "id": "12652a4a",
   "metadata": {},
   "outputs": [
    {
     "name": "stdout",
     "output_type": "stream",
     "text": [
      "Sorted Array:  [1 1 2 3 3 4 5]\n",
      "Original\n",
      " [[3 1]\n",
      " [1 2]\n",
      " [2 3]]\n",
      "Sorted 2d array by column:\n",
      "  [[1 1]\n",
      " [2 2]\n",
      " [3 3]]\n",
      "Array 2d array by Row:\n",
      "  [[1 3]\n",
      " [1 2]\n",
      " [2 3]]\n"
     ]
    }
   ],
   "source": [
    "unsorted_arr = np.array([3,1,4,5,2,1,3])\n",
    "print(\"Sorted Array: \", np.sort(unsorted_arr) )\n",
    "\n",
    "arr_2d_unsorted = np.array([[3,1], [1,2],[2,3]])\n",
    "print(\"Original\\n\", arr_2d_unsorted)\n",
    "print(\"Sorted 2d array by column:\\n \", np.sort(arr_2d_unsorted, axis=0))\n",
    "print(\"Array 2d array by Row:\\n \", np.sort(arr_2d_unsorted, axis=1))"
   ]
  },
  {
   "cell_type": "markdown",
   "id": "71a52f88",
   "metadata": {},
   "source": [
    "## Filter"
   ]
  },
  {
   "cell_type": "code",
   "execution_count": 17,
   "id": "66954c3d",
   "metadata": {},
   "outputs": [
    {
     "name": "stdout",
     "output_type": "stream",
     "text": [
      "Even numbers:  [ 2  4  6  8 10]\n"
     ]
    }
   ],
   "source": [
    "number = np.array([1,2,3,4,5,6,7,8,9,10])\n",
    "even_number = number[number%2==0]\n",
    "print(\"Even numbers: \", even_number)"
   ]
  },
  {
   "cell_type": "markdown",
   "id": "51f40dcf",
   "metadata": {},
   "source": [
    "## Filter with Mask"
   ]
  },
  {
   "cell_type": "code",
   "execution_count": 18,
   "id": "f3a2a67b",
   "metadata": {},
   "outputs": [
    {
     "name": "stdout",
     "output_type": "stream",
     "text": [
      "Numbers greater than 5:  [ 6  7  8  9 10]\n"
     ]
    }
   ],
   "source": [
    "mask = number > 5 \n",
    "print(\"Numbers greater than 5: \", number[mask])"
   ]
  },
  {
   "cell_type": "markdown",
   "id": "bc7864d3",
   "metadata": {},
   "source": [
    "## Fancy Indexing vs np.where()"
   ]
  },
  {
   "cell_type": "code",
   "execution_count": 19,
   "id": "cb5dd0e6",
   "metadata": {},
   "outputs": [
    {
     "name": "stdout",
     "output_type": "stream",
     "text": [
      "Fancy Indexing:  [1 3 5]\n",
      "Using np.where():  [ 6  7  8  9 10]\n"
     ]
    }
   ],
   "source": [
    "indices = [0,2,4]\n",
    "print(\"Fancy Indexing: \", number[indices])\n",
    "\n",
    "where_result = np.where(number>5)\n",
    "print(\"Using np.where(): \", number[where_result])\n"
   ]
  },
  {
   "cell_type": "code",
   "execution_count": 25,
   "id": "219b540c",
   "metadata": {},
   "outputs": [
    {
     "name": "stdout",
     "output_type": "stream",
     "text": [
      "Conditional Array  :  [ 1  2  3  4  5 12 14 16 18 20]\n",
      "Conditional Array  :  ['false' 'false' 'false' 'false' 'false' 'true' 'true' 'true' 'true'\n",
      " 'true']\n"
     ]
    }
   ],
   "source": [
    "condition_array = np.where(number > 5, number*2, number)\n",
    "print(\"Conditional Array  : \", condition_array)\n",
    "\n",
    "condition_array = np.where(number > 5, \"true\", \"false\")\n",
    "print(\"Conditional Array  : \", condition_array)"
   ]
  },
  {
   "cell_type": "markdown",
   "id": "0444479f",
   "metadata": {},
   "source": [
    "## if(numbers>5){\n",
    "  ##  number* 2\n",
    "## } else {\n",
    "   ## numbers\n",
    "## }  "
   ]
  },
  {
   "cell_type": "markdown",
   "id": "8d0ee117",
   "metadata": {},
   "source": [
    "### Adding and removing data"
   ]
  },
  {
   "cell_type": "code",
   "execution_count": 28,
   "id": "58d9e50f",
   "metadata": {},
   "outputs": [
    {
     "name": "stdout",
     "output_type": "stream",
     "text": [
      "Combined Array:  [1 2 3 4 5 6]\n"
     ]
    }
   ],
   "source": [
    "arr1 = np.array([1,2,3])\n",
    "arr2 = np.array([4,5,6])\n",
    "\n",
    "combined_arr = np.concatenate((arr1, arr2))\n",
    "print(\"Combined Array: \", combined_arr)"
   ]
  },
  {
   "cell_type": "markdown",
   "id": "5e45a645",
   "metadata": {},
   "source": [
    "### Array Compatibility"
   ]
  },
  {
   "cell_type": "code",
   "execution_count": 26,
   "id": "49d04ed7",
   "metadata": {},
   "outputs": [
    {
     "name": "stdout",
     "output_type": "stream",
     "text": [
      "compatbility:  True\n"
     ]
    }
   ],
   "source": [
    "a = np.array([1,2,3])\n",
    "b = np.array([4,5,6])\n",
    "c = np.array([7,8,9])\n",
    "\n",
    "print(\"compatbility: \", a.shape == b.shape == c.shape)"
   ]
  },
  {
   "cell_type": "code",
   "execution_count": 29,
   "id": "2c323b40",
   "metadata": {},
   "outputs": [
    {
     "name": "stdout",
     "output_type": "stream",
     "text": [
      "Array after deletion:  [1 2 4 5]\n"
     ]
    }
   ],
   "source": [
    "arr = np.array([1,2,3,4,5])\n",
    "deleted = np.delete(arr,2)# delete index 2\n",
    "print(\"Array after deletion: \", deleted)"
   ]
  }
 ],
 "metadata": {
  "kernelspec": {
   "display_name": "venv (3.12.5)",
   "language": "python",
   "name": "python3"
  },
  "language_info": {
   "codemirror_mode": {
    "name": "ipython",
    "version": 3
   },
   "file_extension": ".py",
   "mimetype": "text/x-python",
   "name": "python",
   "nbconvert_exporter": "python",
   "pygments_lexer": "ipython3",
   "version": "3.12.5"
  }
 },
 "nbformat": 4,
 "nbformat_minor": 5
}
