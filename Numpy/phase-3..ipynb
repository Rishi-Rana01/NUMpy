{
 "cells": [
  {
   "cell_type": "code",
   "execution_count": 10,
   "id": "ac42ceab",
   "metadata": {},
   "outputs": [],
   "source": [
    "import numpy as np\n",
    "import matplotlib.pyplot as plt"
   ]
  },
  {
   "cell_type": "markdown",
   "id": "eb0226fd",
   "metadata": {},
   "source": [
    "### Data"
   ]
  },
  {
   "cell_type": "code",
   "execution_count": 11,
   "id": "a15e352f",
   "metadata": {},
   "outputs": [
    {
     "name": "stdout",
     "output_type": "stream",
     "text": [
      "\n",
      " Sales data shape (5, 5)\n",
      "\n",
      " Sales data of 1st 3 rest. [[    1 50000 55000 60000 65000]\n",
      " [    2 70000 72000 75000 80000]\n",
      " [    3 30000 35000 40000 45000]]\n",
      "[    15 280000 302000 325000 360000]\n",
      "[280000 302000 325000 360000]\n",
      "min_sales [50000 70000 30000 90000 40000]\n",
      "avg [57500. 74250. 37500. 98750. 48750.]\n"
     ]
    }
   ],
   "source": [
    "# Data Structure: [restauurant_id, 2021,2022,2023,2024]\n",
    "\n",
    "sales_data = np.array([\n",
    "    [1, 50000, 55000, 60000, 65000],\n",
    "    [2, 70000, 72000, 75000, 80000],\n",
    "    [3, 30000, 35000, 40000, 45000],\n",
    "    [4, 90000, 95000, 100000, 110000],\n",
    "    [5, 40000, 45000, 50000, 60000]\n",
    "])\n",
    "print(\"\\n Sales data shape\", sales_data.shape)\n",
    "print(\"\\n Sales data of 1st 3 rest.\", sales_data[0:3])\n",
    "\n",
    "\n",
    "print(np.sum(sales_data, axis=0))\n",
    "\n",
    "yearly_total= np.sum(sales_data[:, 1:], axis=0) # all rows, skip 1(0) coln only(means restaurant id 1,,2,3,4,5)\n",
    "print(yearly_total)\n",
    "\n",
    "# Minimum sales per restaurant\n",
    "min_sales = np.min(sales_data[:, 1:],axis=1)\n",
    "print(\"min_sales\", min_sales)\n",
    "\n",
    "# Average sales per restaurant\n",
    "avg_sales = np.mean(sales_data[: , 1:],axis=1)\n",
    "print(\"avg\", avg_sales)"
   ]
  },
  {
   "cell_type": "code",
   "execution_count": 12,
   "id": "618e04b7",
   "metadata": {},
   "outputs": [
    {
     "name": "stdout",
     "output_type": "stream",
     "text": [
      "Vector addition [ 7  9 11 13 15]\n",
      "\n",
      " Multiplication vector [ 6 14 24 36 50]\n",
      "\n",
      " Dot Product 130\n",
      " Angle  0.26554161733900966\n"
     ]
    }
   ],
   "source": [
    "vector1 = np.array([1,2,3,4,5])\n",
    "vector2 = np.array([6,7,8,9,10])\n",
    "\n",
    "print(\"Vector addition\", vector1 + vector2)\n",
    "\n",
    "print(\"\\n Multiplication vector\", vector1*vector2)\n",
    "\n",
    "print(\"\\n Dot Product\", np.dot(vector1,vector2))\n",
    "\n",
    "angle = np.arccos(np.dot(vector1,vector2)/(np.linalg.norm(vector1)*np.linalg.norm(vector2)))\n",
    "print(\" Angle \", angle)"
   ]
  },
  {
   "cell_type": "code",
   "execution_count": 13,
   "id": "b0bdd714",
   "metadata": {},
   "outputs": [
    {
     "name": "stdout",
     "output_type": "stream",
     "text": [
      "['BIRYANI' 'CHINESE' 'PIZZA' 'BURGER' 'CAFE']\n"
     ]
    }
   ],
   "source": [
    "restaurant_type= np.array(['biryani', 'chinese', 'pizza', 'burger', 'cafe'])\n",
    "vectorizesd_upper =np.vectorize(str.upper)\n",
    "\n",
    "print(vectorizesd_upper(restaurant_type))"
   ]
  },
  {
   "cell_type": "code",
   "execution_count": 15,
   "id": "e6c39958",
   "metadata": {},
   "outputs": [
    {
     "name": "stdout",
     "output_type": "stream",
     "text": [
      "[[4166.66666667 4583.33333333 5000.         5416.66666667]\n",
      " [5833.33333333 6000.         6250.         6666.66666667]\n",
      " [2500.         2916.66666667 3333.33333333 3750.        ]\n",
      " [7500.         7916.66666667 8333.33333333 9166.66666667]\n",
      " [3333.33333333 3750.         4166.66666667 5000.        ]]\n"
     ]
    }
   ],
   "source": [
    "monthly_avg = sales_data[:, 1:] /12\n",
    "print(monthly_avg)"
   ]
  }
 ],
 "metadata": {
  "kernelspec": {
   "display_name": "venv (3.12.5)",
   "language": "python",
   "name": "python3"
  },
  "language_info": {
   "codemirror_mode": {
    "name": "ipython",
    "version": 3
   },
   "file_extension": ".py",
   "mimetype": "text/x-python",
   "name": "python",
   "nbconvert_exporter": "python",
   "pygments_lexer": "ipython3",
   "version": "3.12.5"
  }
 },
 "nbformat": 4,
 "nbformat_minor": 5
}
